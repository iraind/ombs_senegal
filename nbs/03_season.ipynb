{
 "cells": [
  {
   "cell_type": "markdown",
   "metadata": {},
   "source": [
    "# Seasonal Model for Hydrological Flow Prediction\n",
    "\n",
    "This notebook implements a seasonal model for predicting hydrological flow based on weekly patterns. The model:\n",
    "\n",
    "1. Computes average flow values for each week of the year using historical data\n",
    "2. Uses these weekly averages to make predictions on new data \n",
    "3. Evaluates model performance using standard hydrological metrics"
   ]
  },
  {
   "cell_type": "code",
   "execution_count": null,
   "metadata": {},
   "outputs": [],
   "source": [
    "#| export\n",
    "import pandas as pd"
   ]
  },
  {
   "cell_type": "code",
   "execution_count": null,
   "metadata": {},
   "outputs": [],
   "source": [
    "#|hide\n",
    "from pathlib import Path\n",
    "import xarray as xr\n",
    "from ombs_senegal.benchmark_model import BenchmarkScores\n",
    "\n",
    "\n",
    "DATA_PATH = Path(\"../testing_data\")\n",
    "OBS_COL = 'Q_obs'"
   ]
  },
  {
   "cell_type": "markdown",
   "metadata": {},
   "source": [
    "#### Data loading"
   ]
  },
  {
   "cell_type": "code",
   "execution_count": null,
   "metadata": {},
   "outputs": [],
   "source": [
    "\n",
    "data = pd.read_csv(\n",
    "    DATA_PATH/'hydro_example.csv', \n",
    "    usecols=['time', OBS_COL], \n",
    "    index_col='time',\n",
    "    converters={\"time\": pd.to_datetime}\n",
    "    )\n",
    "data = data['2012-01-01':]"
   ]
  },
  {
   "cell_type": "markdown",
   "metadata": {},
   "source": [
    "#### Seassonal model\n",
    "\n",
    "We create a class that is able to:\n",
    "- Compute seasonal patterns based on week of year\n",
    "- Remove seasonality from data\n",
    "- Add seasonality back to data"
   ]
  },
  {
   "cell_type": "code",
   "execution_count": null,
   "metadata": {},
   "outputs": [],
   "source": [
    "#| export\n",
    "class SeasonalityHandler:\n",
    "    \"\"\"Class to handle seasonality operations in time series data.\n",
    "    \n",
    "    This class provides methods to:\n",
    "    - Compute seasonal patterns based on week of year\n",
    "    - Remove seasonality from data\n",
    "    - Add seasonality back to data\n",
    "    \n",
    "    Attributes:\n",
    "        seasonal_pattern: pd.DataFrame\n",
    "            The computed seasonal pattern, indexed by week of year\n",
    "    \"\"\"\n",
    "    \n",
    "    def __init__(self):\n",
    "        \"\"\"Initialize the SeasonalityHandler.\"\"\"\n",
    "        self.seasonal_pattern = None\n",
    "    \n",
    "    def compute_seasonal_pattern(self, data: pd.DataFrame) -> pd.DataFrame:\n",
    "        \"\"\"Compute mean values for each week of the year to capture seasonal patterns.\"\"\"\n",
    "        if 1 < len(data.columns):\n",
    "            raise ValueError(\"Data must contain only one column\")\n",
    "        seasonal_pattern = data.groupby(data.index.isocalendar().week).mean()\n",
    "        self.seasonal_pattern = seasonal_pattern.rename(columns={data.columns[0]: \"season\"})\n",
    "        return self.seasonal_pattern\n",
    "    \n",
    "    def remove_seasonality(self, data: pd.DataFrame) -> pd.DataFrame:\n",
    "        \"\"\"Remove seasonality from the data.\"\"\"\n",
    "        if self.seasonal_pattern is None:\n",
    "            raise ValueError(\"Seasonal pattern not computed. Call compute_seasonal_pattern first.\")\n",
    "        \n",
    "        deseasonalized = data.copy()\n",
    "        deseasonalized = self.add_week_index(deseasonalized, True)\n",
    "        deseasonalized = deseasonalized.join(self.seasonal_pattern, on='week')\n",
    "        deseasonalized = deseasonalized[data.columns] - deseasonalized[\"season\"].values.reshape(-1, 1)\n",
    "        deseasonalized = self.remove_week_index(deseasonalized, True)\n",
    "        return deseasonalized\n",
    "    \n",
    "    def add_seasonality(self, data: pd.DataFrame) -> pd.DataFrame:\n",
    "        \"\"\"Add seasonality back to the data.\"\"\"\n",
    "        if self.seasonal_pattern is None:\n",
    "            raise ValueError(\"Seasonal pattern not computed. Call compute_seasonal_pattern first.\")\n",
    "        \n",
    "        reseasonalized = data.copy()\n",
    "        reseasonalized = self.add_week_index(reseasonalized, True)\n",
    "        reseasonalized = reseasonalized.join(self.seasonal_pattern, on='week')\n",
    "        reseasonalized = reseasonalized[data.columns] + reseasonalized[\"season\"].values.reshape(-1, 1)\n",
    "        reseasonalized = self.remove_week_index(reseasonalized, True)\n",
    "        \n",
    "        return reseasonalized\n",
    "    \n",
    "    def add_week_index(self, data: pd.DataFrame, inplace: bool = False) -> pd.DataFrame:\n",
    "        \"\"\"Add week as index level to the data.\"\"\"\n",
    "        if not inplace:\n",
    "            data = data.copy()\n",
    "        data['week'] = data.index.isocalendar().week\n",
    "        data.set_index('week', inplace=True, append=True)\n",
    "        return data\n",
    "    \n",
    "    def remove_week_index(self, data: pd.DataFrame, inplace: bool = False) -> pd.DataFrame:\n",
    "        \"\"\"Remove week as index level from the data.\"\"\"\n",
    "        if not inplace:\n",
    "            data = data.copy()\n",
    "        data.reset_index(level='week', drop=True, inplace=True)\n",
    "        return data"
   ]
  },
  {
   "cell_type": "markdown",
   "metadata": {},
   "source": [
    "We will now compute the seasonal variations and show the resutls. First we split data into train and test sets (80-20 split)"
   ]
  },
  {
   "cell_type": "code",
   "execution_count": null,
   "metadata": {},
   "outputs": [],
   "source": [
    "train_mask = data.index < '2019-01-01'\n",
    "train_data = data[train_mask]\n",
    "test_data = data[~train_mask]"
   ]
  },
  {
   "cell_type": "markdown",
   "metadata": {},
   "source": [
    "Now we compute the seasonality from the train set"
   ]
  },
  {
   "cell_type": "code",
   "execution_count": null,
   "metadata": {},
   "outputs": [],
   "source": [
    "seasonality_handler = SeasonalityHandler()\n",
    "season = seasonality_handler.compute_seasonal_pattern(train_data)"
   ]
  },
  {
   "cell_type": "markdown",
   "metadata": {},
   "source": [
    "We add all together into a single dataframe"
   ]
  },
  {
   "cell_type": "code",
   "execution_count": null,
   "metadata": {},
   "outputs": [],
   "source": [
    "results = seasonality_handler.add_week_index(test_data)\n",
    "results = results.join(season.rename(columns={OBS_COL:\"season\"}), on='week')\n",
    "results = seasonality_handler.remove_week_index(results)"
   ]
  },
  {
   "cell_type": "markdown",
   "metadata": {},
   "source": [
    "We compute the benchmark scores"
   ]
  },
  {
   "cell_type": "code",
   "execution_count": null,
   "metadata": {},
   "outputs": [],
   "source": [
    "benchmark_scores = BenchmarkScores()\n",
    "scores = benchmark_scores.compute_scores(\n",
    "    results[[\"season\"]].to_xarray(), results[OBS_COL].to_xarray(), [\"rmse\", \"mae\", \"nse\", \"kge\"]\n",
    "    )\n",
    "scores_df = scores.to_dataframe()"
   ]
  },
  {
   "cell_type": "markdown",
   "metadata": {},
   "source": [
    "We will finally plot the results"
   ]
  },
  {
   "cell_type": "code",
   "execution_count": null,
   "metadata": {},
   "outputs": [],
   "source": [
    "scores_str = \" \".join(f\"{c.upper()}: {scores_df[c].values[0]:.2f}\" for c in scores_df.columns)\n",
    "ax = results.plot(title=f\"Seasonal Model\\n{scores_str}\", ylabel=\"Flow (m³/s)\")"
   ]
  },
  {
   "cell_type": "markdown",
   "metadata": {},
   "source": [
    "And thats how we can create the season variable, either to usi it as feature for other models or to use it as a benchmark model."
   ]
  },
  {
   "cell_type": "code",
   "execution_count": null,
   "metadata": {},
   "outputs": [],
   "source": [
    "season_pred = results[[\"season\"]].to_xarray()\n",
    "season_pred = xr.merge([\n",
    "    season_pred,\n",
    "    scores.to_array(\"score\", name=\"scores\").sel(forecast_horizon=\"season\", drop=True)\n",
    "     ])\n",
    "season_pred = season_pred.expand_dims({\"model\": [\"Season\"]})\n",
    "season_pred"
   ]
  }
 ],
 "metadata": {
  "kernelspec": {
   "display_name": ".venv",
   "language": "python",
   "name": "python3"
  },
  "language_info": {
   "codemirror_mode": {
    "name": "ipython",
    "version": 3
   },
   "file_extension": ".py",
   "mimetype": "text/x-python",
   "name": "python",
   "nbconvert_exporter": "python",
   "pygments_lexer": "ipython3",
   "version": "3.12.3"
  }
 },
 "nbformat": 4,
 "nbformat_minor": 4
}
