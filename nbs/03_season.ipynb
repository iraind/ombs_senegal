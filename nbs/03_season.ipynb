{
 "cells": [
  {
   "cell_type": "markdown",
   "metadata": {},
   "source": [
    "# Seasonal Handling for Hydrological Flow Prediction\n",
    "\n",
    "This notebook implements a seasonal handling that can be used as feature for other models or to use it as a benchmark model."
   ]
  },
  {
   "cell_type": "code",
   "execution_count": null,
   "metadata": {},
   "outputs": [],
   "source": [
    "#| default_exp season"
   ]
  },
  {
   "cell_type": "code",
   "execution_count": null,
   "metadata": {},
   "outputs": [],
   "source": [
    "#| export\n",
    "import pandas as pd"
   ]
  },
  {
   "cell_type": "code",
   "execution_count": null,
   "metadata": {},
   "outputs": [],
   "source": [
    "#|hide\n",
    "from pathlib import Path\n",
    "from nbdev.showdoc import *\n",
    "\n",
    "\n",
    "DATA_PATH = Path(\"../testing_data\")\n",
    "OBS_COL = 'Q_obs'"
   ]
  },
  {
   "cell_type": "markdown",
   "metadata": {},
   "source": [
    "#### Data loading"
   ]
  },
  {
   "cell_type": "code",
   "execution_count": null,
   "metadata": {},
   "outputs": [],
   "source": [
    "\n",
    "data = pd.read_csv(\n",
    "    DATA_PATH/'hydro_example.csv', \n",
    "    usecols=['time', OBS_COL], \n",
    "    index_col='time',\n",
    "    converters={\"time\": pd.to_datetime}\n",
    "    )\n",
    "data = data['2012-01-01':]"
   ]
  },
  {
   "cell_type": "markdown",
   "metadata": {},
   "source": [
    "#### Seassonal model\n",
    "\n",
    "We create a class that is able to:\n",
    "- Compute seasonal patterns based on week of year\n",
    "- Remove seasonality from data\n",
    "- Add seasonality back to data"
   ]
  },
  {
   "cell_type": "code",
   "execution_count": null,
   "metadata": {},
   "outputs": [],
   "source": [
    "#| export\n",
    "class SeasonalityHandler:\n",
    "    \"\"\"Class to handle seasonality operations in time series data.\n",
    "    \n",
    "    This class provides methods to:\n",
    "    - Compute seasonal patterns based on week of year\n",
    "    - Remove seasonality from data\n",
    "    - Add seasonality back to data\n",
    "    \n",
    "    Attributes:\n",
    "        seasonal_pattern: pd.DataFrame\n",
    "            The computed seasonal pattern, indexed by week of year\n",
    "    \"\"\"\n",
    "    \n",
    "    def __init__(self):\n",
    "        \"\"\"Initialize the SeasonalityHandler.\"\"\"\n",
    "        self.seasonal_pattern = None\n",
    "    \n",
    "    def compute_seasonal_pattern(self, data: pd.DataFrame) -> pd.DataFrame:\n",
    "        \"\"\"Compute mean values for each week of the year to capture seasonal patterns.\"\"\"\n",
    "        if 1 < len(data.columns):\n",
    "            raise ValueError(\"Data must contain only one column\")\n",
    "        seasonal_pattern = data.groupby(data.index.isocalendar().week).mean()\n",
    "        self.seasonal_pattern = seasonal_pattern.rename(columns={data.columns[0]: \"season\"})\n",
    "        return self.seasonal_pattern\n",
    "    \n",
    "    def remove_seasonality(self, data: pd.DataFrame) -> pd.DataFrame:\n",
    "        \"\"\"Remove seasonality from the data.\"\"\"\n",
    "        if self.seasonal_pattern is None:\n",
    "            raise ValueError(\"Seasonal pattern not computed. Call compute_seasonal_pattern first.\")\n",
    "        \n",
    "        deseasonalized = data.copy()\n",
    "        deseasonalized = self._add_week_index(deseasonalized)\n",
    "        deseasonalized = deseasonalized.join(self.seasonal_pattern, on='week')\n",
    "        deseasonalized = deseasonalized[data.columns] - deseasonalized[\"season\"].values.reshape(-1, 1)\n",
    "        deseasonalized = self._remove_week_index(deseasonalized)\n",
    "        return deseasonalized\n",
    "    \n",
    "    def add_seasonality(self, data: pd.DataFrame) -> pd.DataFrame:\n",
    "        \"\"\"Add seasonality back to the data.\"\"\"\n",
    "        if self.seasonal_pattern is None:\n",
    "            raise ValueError(\"Seasonal pattern not computed. Call compute_seasonal_pattern first.\")\n",
    "        \n",
    "        reseasonalized = data.copy()\n",
    "        reseasonalized = self._add_week_index(reseasonalized)\n",
    "        reseasonalized = reseasonalized.join(self.seasonal_pattern, on='week')\n",
    "        reseasonalized = reseasonalized[data.columns] + reseasonalized[\"season\"].values.reshape(-1, 1)\n",
    "        reseasonalized = self._remove_week_index(reseasonalized)\n",
    "        \n",
    "        return reseasonalized\n",
    "    \n",
    "    def _add_week_index(self, data: pd.DataFrame) -> pd.DataFrame:\n",
    "        \"\"\"Add week as index level to the data.\"\"\"\n",
    "        data['week'] = data.index.isocalendar().week\n",
    "        data.set_index('week', inplace=True, append=True)\n",
    "        return data\n",
    "    \n",
    "    def _remove_week_index(self, data: pd.DataFrame) -> pd.DataFrame:\n",
    "        \"\"\"Remove week as index level from the data.\"\"\"\n",
    "        data.reset_index(level='week', drop=True, inplace=True)\n",
    "        return data\n",
    "    \n",
    "    def append_season(self, data: pd.DataFrame) -> pd.DataFrame:\n",
    "        \"\"\"Append the seasonality to the data.\"\"\"\n",
    "        if self.seasonal_pattern is None:\n",
    "            raise ValueError(\"Seasonal pattern not computed. Call compute_seasonal_pattern first.\")\n",
    "        joint = data.copy()\n",
    "        joint = self._add_week_index(joint)\n",
    "        joint = joint.join(self.seasonal_pattern, on='week')\n",
    "        joint = self._remove_week_index(joint)\n",
    "        return joint\n"
   ]
  },
  {
   "cell_type": "markdown",
   "metadata": {},
   "source": [
    "First we create an instance:"
   ]
  },
  {
   "cell_type": "code",
   "execution_count": null,
   "metadata": {},
   "outputs": [],
   "source": [
    "seasonality_handler = SeasonalityHandler()"
   ]
  },
  {
   "cell_type": "code",
   "execution_count": null,
   "metadata": {},
   "outputs": [],
   "source": [
    "show_doc(SeasonalityHandler.compute_seasonal_pattern)"
   ]
  },
  {
   "cell_type": "markdown",
   "metadata": {},
   "source": [
    "Now we compute the seasonality of the data as follows:"
   ]
  },
  {
   "cell_type": "code",
   "execution_count": null,
   "metadata": {},
   "outputs": [],
   "source": [
    "season = seasonality_handler.compute_seasonal_pattern(data)"
   ]
  },
  {
   "cell_type": "code",
   "execution_count": null,
   "metadata": {},
   "outputs": [],
   "source": [
    "show_doc(seasonality_handler.remove_seasonality)"
   ]
  },
  {
   "cell_type": "markdown",
   "metadata": {},
   "source": [
    "Its also possible to remove the seasonality to our data as follows"
   ]
  },
  {
   "cell_type": "code",
   "execution_count": null,
   "metadata": {},
   "outputs": [],
   "source": [
    "deseasonalized_data = seasonality_handler.remove_seasonality(data)\n",
    "deseasonalized_data.plot()"
   ]
  },
  {
   "cell_type": "code",
   "execution_count": null,
   "metadata": {},
   "outputs": [],
   "source": [
    "show_doc(seasonality_handler.add_seasonality)"
   ]
  },
  {
   "cell_type": "markdown",
   "metadata": {},
   "source": [
    "We can also add the seasonality back"
   ]
  },
  {
   "cell_type": "code",
   "execution_count": null,
   "metadata": {},
   "outputs": [],
   "source": [
    "seasonality_handler.add_seasonality(deseasonalized_data).head(3)"
   ]
  },
  {
   "cell_type": "code",
   "execution_count": null,
   "metadata": {},
   "outputs": [],
   "source": [
    "show_doc(seasonality_handler.append_season)"
   ]
  },
  {
   "cell_type": "markdown",
   "metadata": {},
   "source": [
    "Or we can append the seasonal data as a new column as follows"
   ]
  },
  {
   "cell_type": "code",
   "execution_count": null,
   "metadata": {},
   "outputs": [],
   "source": [
    "seasonality_handler.append_season(data).head(3)"
   ]
  },
  {
   "cell_type": "code",
   "execution_count": null,
   "metadata": {},
   "outputs": [],
   "source": [
    "#| hide\n",
    "import nbdev; nbdev.nbdev_export()"
   ]
  }
 ],
 "metadata": {
  "kernelspec": {
   "display_name": ".venv",
   "language": "python",
   "name": "python3"
  },
  "language_info": {
   "name": "python",
   "version": "3.12.3"
  }
 },
 "nbformat": 4,
 "nbformat_minor": 4
}
