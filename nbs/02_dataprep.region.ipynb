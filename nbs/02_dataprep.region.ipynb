{
 "cells": [
  {
   "cell_type": "markdown",
   "metadata": {},
   "source": [
    "# Region\n",
    "\n",
    "> This module provides functionality for creating region masks from GeoDataFrames and xarray Datasets. It helps identify points that fall within specified geographic regions."
   ]
  },
  {
   "cell_type": "code",
   "execution_count": null,
   "metadata": {},
   "outputs": [],
   "source": [
    "#| default_exp dataprep.region"
   ]
  },
  {
   "cell_type": "code",
   "execution_count": null,
   "metadata": {},
   "outputs": [],
   "source": [
    "#| hide\n",
    "from nbdev.showdoc import *"
   ]
  },
  {
   "cell_type": "code",
   "execution_count": null,
   "metadata": {},
   "outputs": [],
   "source": [
    "#| export\n",
    "import xarray as xr\n",
    "import geopandas as gpd\n",
    "import regionmask"
   ]
  },
  {
   "cell_type": "code",
   "execution_count": null,
   "metadata": {},
   "outputs": [],
   "source": [
    "#| hide\n",
    "from pathlib import Path\n",
    "import datetime as dt\n",
    "import numpy as np\n",
    "import matplotlib.pyplot as plt\n",
    "\n",
    "\n",
    "DATA_PATH = Path('../testing_data')"
   ]
  },
  {
   "cell_type": "code",
   "execution_count": null,
   "metadata": {},
   "outputs": [],
   "source": [
    "#| hide\n",
    "def generate_sintetic_data(lat=[10, 19], lon=[-17, -6]):\n",
    "    \"\"\"Generate synthetic data for a region.\"\"\"\n",
    "    resolution = 0.1\n",
    "    lat = np.arange(lat[0], lat[1] + resolution, resolution)\n",
    "    lon = np.arange(lon[0], lon[1] + resolution, resolution)\n",
    "    ds = xr.Dataset(\n",
    "        data_vars=dict(\n",
    "            Precipitation=([\"time\", \"lat\", \"lon\"], np.random.rand(1, len(lat), len(lon))),\n",
    "        ),\n",
    "        coords=dict(\n",
    "            time=[dt.datetime(2020, 1, 1)],\n",
    "            lat=lat,\n",
    "            lon=lon\n",
    "        )\n",
    "    )\n",
    "    return ds"
   ]
  },
  {
   "cell_type": "code",
   "execution_count": null,
   "metadata": {},
   "outputs": [],
   "source": [
    "#| hide\n",
    "roi_gdf = gpd.read_file(DATA_PATH/'sample_polygons/sub_poly.shp')\n",
    "sample_data = generate_sintetic_data()"
   ]
  },
  {
   "cell_type": "code",
   "execution_count": null,
   "metadata": {},
   "outputs": [],
   "source": [
    "#| export\n",
    "def get_region_mask(ds: xr.Dataset, gdf: gpd.GeoDataFrame) -> xr.DataArray:\n",
    "    \"\"\"Create a boolean xarray mask from all geometries in the GeoDataFrame.\n",
    "    Returns True for points within any geometry, False otherwise.\"\"\"\n",
    "    masked_region_with_nan = regionmask.mask_geopandas(gdf, ds)\n",
    "    mask = ~xr.ufuncs.isnan(masked_region_with_nan)\n",
    "    return mask"
   ]
  },
  {
   "cell_type": "markdown",
   "metadata": {},
   "source": [
    "## Example"
   ]
  },
  {
   "cell_type": "markdown",
   "metadata": {},
   "source": [
    "#### Input"
   ]
  },
  {
   "cell_type": "code",
   "execution_count": null,
   "metadata": {},
   "outputs": [],
   "source": [
    "#| output: true\n",
    "#| echo: false\n",
    "fig, (ax1, ax2) = plt.subplots(1, 2, figsize=(12, 4))\n",
    "roi_gdf.geometry.plot(ax=ax2)\n",
    "sample_data.isel(time=0, drop=True).Precipitation.plot(ax=ax1)\n",
    "plt.tight_layout()"
   ]
  },
  {
   "cell_type": "markdown",
   "metadata": {},
   "source": [
    "#### Output"
   ]
  },
  {
   "cell_type": "code",
   "execution_count": null,
   "metadata": {},
   "outputs": [],
   "source": [
    "#| output: true\n",
    "#| echo: false\n",
    "region_mask = get_region_mask(sample_data, roi_gdf)\n",
    "region_mask.plot()"
   ]
  },
  {
   "cell_type": "code",
   "execution_count": null,
   "metadata": {},
   "outputs": [],
   "source": [
    "#| hide\n",
    "import nbdev; nbdev.nbdev_export()"
   ]
  }
 ],
 "metadata": {
  "kernelspec": {
   "display_name": "python3",
   "language": "python",
   "name": "python3"
  }
 },
 "nbformat": 4,
 "nbformat_minor": 4
}
