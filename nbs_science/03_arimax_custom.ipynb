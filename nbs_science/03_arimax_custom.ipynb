{
 "cells": [
  {
   "cell_type": "markdown",
   "metadata": {},
   "source": [
    "# ARIMAX Modeling for Time Series Analysis\n",
    "\n",
    "This notebook demonstrates how to implement and use ARIMAX (AutoRegressive Integrated Moving Average with eXogenous variables) for time series forecasting. ARIMAX extends the traditional ARIMA model by incorporating external variables that might influence the target variable."
   ]
  },
  {
   "cell_type": "code",
   "execution_count": null,
   "metadata": {},
   "outputs": [],
   "source": [
    "!pip install -q statsmodels seaborn"
   ]
  },
  {
   "cell_type": "code",
   "execution_count": null,
   "metadata": {},
   "outputs": [],
   "source": [
    "# Import required libraries\n",
    "import numpy as np\n",
    "import pandas as pd\n",
    "import matplotlib.pyplot as plt\n",
    "import seaborn as sns\n",
    "from statsmodels.tsa.statespace.sarimax import SARIMAX\n",
    "# from statsmodels.stats.diagnostic import acf\n",
    "from sklearn.metrics import mean_squared_error, mean_absolute_error\n",
    "from datetime import datetime, timedelta\n",
    "from pathlib import Path\n",
    "\n",
    "# Set style for better visualizations\n",
    "#plt.style.use('seaborn')\n",
    "sns.set_palette('deep')"
   ]
  },
  {
   "cell_type": "code",
   "execution_count": null,
   "metadata": {},
   "outputs": [],
   "source": [
    "DATA_PATH = Path(\"../../data\")"
   ]
  },
  {
   "cell_type": "markdown",
   "metadata": {},
   "source": [
    "## Load data\n",
    "\n",
    "Load data for ARIMAX model\n",
    "1. A target variable (e.g., débit_insitu)\n",
    "2. Two exogenous variables (e.g., P_cumul_7j, débit_mgb)"
   ]
  },
  {
   "cell_type": "code",
   "execution_count": null,
   "metadata": {},
   "outputs": [],
   "source": [
    "import pandas as pd"
   ]
  },
  {
   "cell_type": "code",
   "execution_count": null,
   "metadata": {},
   "outputs": [],
   "source": [
    "data = pd.read_csv(\n",
    "    DATA_PATH/'data_cumul.csv', \n",
    "    sep=';', \n",
    "    usecols=['time', 'P_cumul_7j', 'débit_insitu', 'débit_mgb'], \n",
    "    index_col='time',\n",
    "    converters={\"time\": pd.to_datetime}\n",
    "    )"
   ]
  },
  {
   "cell_type": "markdown",
   "metadata": {},
   "source": [
    "## Data Visualization\n",
    "\n",
    "Let's visualize our time series data to understand the patterns and relationships."
   ]
  },
  {
   "cell_type": "code",
   "execution_count": null,
   "metadata": {},
   "outputs": [],
   "source": [
    "# Plot time series\n",
    "fig, axes = plt.subplots(3, 1, figsize=(15, 12))\n",
    "fig.suptitle('Time Series Components')\n",
    "\n",
    "# Sales\n",
    "data['débit_insitu'].plot(ax=axes[0], title='Water flow over Time')\n",
    "axes[0].set_xlabel('')\n",
    "axes[0].set_ylabel('débit_insitu')\n",
    "\n",
    "# Temperature\n",
    "data['P_cumul_7j'].plot(ax=axes[1], title='Rain cumul over Time')\n",
    "axes[1].set_xlabel('')\n",
    "axes[1].set_ylabel('P_cumul_7j')\n",
    "\n",
    "# Marketing Spend\n",
    "data['débit_mgb'].plot(ax=axes[2], title='MGB model prediction over Time')\n",
    "axes[2].set_xlabel('Date')\n",
    "axes[2].set_ylabel('débit_mgb')\n",
    "\n",
    "plt.tight_layout()\n",
    "plt.show()"
   ]
  },
  {
   "cell_type": "markdown",
   "metadata": {},
   "source": [
    "## Prepare Data for ARIMAX\n",
    "\n",
    "We'll split our data into training and testing sets, and prepare the exogenous variables."
   ]
  },
  {
   "cell_type": "code",
   "execution_count": null,
   "metadata": {},
   "outputs": [],
   "source": [
    "# Split data into train and test sets (80-20 split)\n",
    "train_size = int(len(data) * 0.8)\n",
    "train_data = data[:train_size]\n",
    "test_data = data[train_size:]\n",
    "\n",
    "# Prepare exogenous variables\n",
    "exog_train = train_data[['P_cumul_7j', 'débit_mgb']]\n",
    "exog_test = test_data[['P_cumul_7j', 'débit_mgb']]\n",
    "\n",
    "print(f\"Training set size: {len(train_data)}\")\n",
    "print(f\"Test set size: {len(test_data)}\")"
   ]
  },
  {
   "cell_type": "markdown",
   "metadata": {},
   "source": [
    "## Build and Train ARIMAX Model\n",
    "\n",
    "We'll use the SARIMAX class from statsmodels to implement our ARIMAX model. The order parameters (p,d,q) will be set to (1,1,1) for this example, but in practice, you should use techniques like AIC/BIC or grid search to find optimal parameters."
   ]
  },
  {
   "cell_type": "code",
   "execution_count": null,
   "metadata": {},
   "outputs": [],
   "source": [
    "# Initialize and train ARIMAX model\n",
    "model = SARIMAX(train_data['débit_insitu'],\n",
    "                exog=exog_train,\n",
    "                order=(1, 1, 1),\n",
    "                enforce_stationarity=False,\n",
    "                enforce_invertibility=False)\n",
    "\n",
    "model_fit = model.fit(disp=False)\n",
    "print(model_fit.summary())"
   ]
  },
  {
   "cell_type": "markdown",
   "metadata": {},
   "source": [
    "## Make Predictions and Evaluate Model"
   ]
  },
  {
   "cell_type": "code",
   "execution_count": null,
   "metadata": {},
   "outputs": [],
   "source": [
    "# Make predictions\n",
    "predictions = model_fit.predict(start=len(train_data),\n",
    "                              end=len(data)-1,\n",
    "                              exog=exog_test)\n",
    "\n",
    "# Calculate error metrics\n",
    "mse = mean_squared_error(test_data['débit_insitu'], predictions)\n",
    "rmse = np.sqrt(mse)\n",
    "mae = mean_absolute_error(test_data['débit_insitu'], predictions)\n",
    "\n",
    "print(f'Mean Squared Error: {mse:.2f}')\n",
    "print(f'Root Mean Squared Error: {rmse:.2f}')\n",
    "print(f'Mean Absolute Error: {mae:.2f}')\n",
    "\n",
    "# Plot actual vs predicted values\n",
    "plt.figure(figsize=(15, 6))\n",
    "plt.plot(test_data.index, test_data['débit_insitu'], label='Actual')\n",
    "plt.plot(test_data.index, predictions, label='Predicted')\n",
    "plt.title('ARIMAX: Actual vs Predicted Flow')\n",
    "plt.xlabel('Date')\n",
    "plt.ylabel('Flow')\n",
    "plt.legend()\n",
    "plt.show()"
   ]
  },
  {
   "cell_type": "markdown",
   "metadata": {},
   "source": [
    "## Model Diagnostics\n",
    "\n",
    "Let's examine the model residuals to check if our model assumptions are met."
   ]
  },
  {
   "cell_type": "code",
   "execution_count": null,
   "metadata": {},
   "outputs": [],
   "source": [
    "# Get model residuals\n",
    "residuals = pd.DataFrame(model_fit.resid)\n",
    "\n",
    "# Plot residuals\n",
    "fig, axes = plt.subplots(2, 2, figsize=(15, 10))\n",
    "fig.suptitle('Model Diagnostics')\n",
    "\n",
    "# Residuals over time\n",
    "residuals.plot(ax=axes[0,0], title='Residuals over Time')\n",
    "axes[0,0].set_xlabel('Date')\n",
    "axes[0,0].set_ylabel('Residual')\n",
    "\n",
    "# Residuals histogram\n",
    "residuals.hist(ax=axes[0,1], bins=30)\n",
    "axes[0,1].set_title('Residuals Distribution')\n",
    "\n",
    "# Q-Q plot\n",
    "from scipy import stats\n",
    "stats.probplot(residuals.iloc[:,0], dist=\"norm\", plot=axes[1,0])\n",
    "axes[1,0].set_title('Q-Q Plot')\n",
    "\n",
    "# Autocorrelation plot\n",
    "pd.plotting.autocorrelation_plot(residuals.iloc[:,0], ax=axes[1,1])\n",
    "axes[1,1].set_title('Residuals Autocorrelation')\n",
    "\n",
    "plt.tight_layout()\n",
    "plt.show()"
   ]
  },
  {
   "cell_type": "markdown",
   "metadata": {},
   "source": [
    "## Conclusions\n",
    "\n",
    "The ARIMAX model we built demonstrates how to:\n",
    "1. Incorporate exogenous variables (temperature and marketing spend) into time series forecasting\n",
    "2. Make predictions on test data\n",
    "3. Evaluate model performance using various metrics\n",
    "4. Perform model diagnostics\n",
    "\n",
    "To improve the model, you could:\n",
    "1. Tune the ARIMAX parameters (p,d,q) using grid search or AIC/BIC criteria\n",
    "2. Add seasonal components (SARIMAX)\n",
    "3. Include more relevant exogenous variables\n",
    "4. Handle any seasonality or trends in the data preprocessing step"
   ]
  },
  {
   "cell_type": "markdown",
   "metadata": {},
   "source": []
  }
 ],
 "metadata": {
  "kernelspec": {
   "display_name": ".venv",
   "language": "python",
   "name": "python3"
  },
  "language_info": {
   "codemirror_mode": {
    "name": "ipython",
    "version": 3
   },
   "file_extension": ".py",
   "mimetype": "text/x-python",
   "name": "python",
   "nbconvert_exporter": "python",
   "pygments_lexer": "ipython3",
   "version": "3.12.3"
  }
 },
 "nbformat": 4,
 "nbformat_minor": 4
}
