{
 "cells": [
  {
   "cell_type": "markdown",
   "metadata": {},
   "source": [
    "# Seasonal Model for Hydrological Flow Prediction\n",
    " \n",
    "This notebook implements a seasonal hydrological model for predicting river flow. The model works by computing the average flow for each week of the year from historical training data, creating a seasonal pattern that can be used to forecast future flows. This simple but effective approach captures reegular annual cycles in river discharge."
   ]
  },
  {
   "cell_type": "code",
   "execution_count": null,
   "metadata": {},
   "outputs": [],
   "source": [
    "from pathlib import Path\n",
    "import pandas as pd\n",
    "import xarray as xr\n",
    "from ombs_senegal.benchmark_model import BenchmarkScores\n",
    "from ombs_senegal.season import SeasonalityHandler\n",
    "\n",
    "\n",
    "DATA_PATH = Path(\"../../data\")\n",
    "OBS_COL = 'débit_insitu'"
   ]
  },
  {
   "cell_type": "markdown",
   "metadata": {},
   "source": [
    "#### Data loading"
   ]
  },
  {
   "cell_type": "code",
   "execution_count": null,
   "metadata": {},
   "outputs": [],
   "source": [
    "\n",
    "data = pd.read_csv(\n",
    "    DATA_PATH/'data_cumul.csv', \n",
    "    usecols=['time', OBS_COL], \n",
    "    index_col='time',\n",
    "    converters={\"time\": pd.to_datetime},\n",
    "    sep=\";\"\n",
    "    )\n",
    "data = data['2012-01-01':]"
   ]
  },
  {
   "cell_type": "markdown",
   "metadata": {},
   "source": [
    "We will now compute the seasonal variations and show the resutls. First we split data into train and test sets (80-20 split)"
   ]
  },
  {
   "cell_type": "code",
   "execution_count": null,
   "metadata": {},
   "outputs": [],
   "source": [
    "train_mask = data.index < '2019-01-01'\n",
    "train_data = data[train_mask]\n",
    "test_data = data[~train_mask]"
   ]
  },
  {
   "cell_type": "markdown",
   "metadata": {},
   "source": [
    "Now we compute the seasonality from the train set"
   ]
  },
  {
   "cell_type": "code",
   "execution_count": null,
   "metadata": {},
   "outputs": [],
   "source": [
    "seasonality_handler = SeasonalityHandler()\n",
    "season = seasonality_handler.compute_seasonal_pattern(train_data)"
   ]
  },
  {
   "cell_type": "markdown",
   "metadata": {},
   "source": [
    "We add all together into a single dataframe"
   ]
  },
  {
   "cell_type": "code",
   "execution_count": null,
   "metadata": {},
   "outputs": [],
   "source": [
    "results = seasonality_handler.append_season(test_data)"
   ]
  },
  {
   "cell_type": "markdown",
   "metadata": {},
   "source": [
    "We compute the benchmark scores"
   ]
  },
  {
   "cell_type": "code",
   "execution_count": null,
   "metadata": {},
   "outputs": [],
   "source": [
    "benchmark_scores = BenchmarkScores()\n",
    "scores = benchmark_scores.compute_scores(\n",
    "    results[[\"season\"]].to_xarray(), results[OBS_COL].to_xarray(), [\"rmse\", \"mae\", \"nse\", \"kge\"]\n",
    "    )\n",
    "scores_df = scores.to_dataframe()"
   ]
  },
  {
   "cell_type": "markdown",
   "metadata": {},
   "source": [
    "We will finally plot the results"
   ]
  },
  {
   "cell_type": "code",
   "execution_count": null,
   "metadata": {},
   "outputs": [],
   "source": [
    "scores_str = \" \".join(f\"{c.upper()}: {scores_df[c].values[0]:.2f}\" for c in scores_df.columns)\n",
    "ax = results.plot(title=f\"Seasonal Model\\n{scores_str}\", ylabel=\"Flow (m³/s)\")"
   ]
  },
  {
   "cell_type": "markdown",
   "metadata": {},
   "source": [
    "Finally we save the data"
   ]
  },
  {
   "cell_type": "code",
   "execution_count": null,
   "metadata": {},
   "outputs": [],
   "source": [
    "season_pred = results[[\"season\"]].to_xarray()\n",
    "season_pred = xr.merge([\n",
    "    season_pred,\n",
    "    scores.to_array(\"score\", name=\"scores\").sel(forecast_horizon=\"season\", drop=True)\n",
    "     ])\n",
    "season_pred = season_pred.expand_dims({\"model\": [\"Season\"]})\n",
    "season_pred.to_netcdf(DATA_PATH/\"season.nc\")"
   ]
  }
 ],
 "metadata": {
  "kernelspec": {
   "display_name": ".venv",
   "language": "python",
   "name": "python3"
  },
  "language_info": {
   "codemirror_mode": {
    "name": "ipython",
    "version": 3
   },
   "file_extension": ".py",
   "mimetype": "text/x-python",
   "name": "python",
   "nbconvert_exporter": "python",
   "pygments_lexer": "ipython3",
   "version": "3.12.3"
  }
 },
 "nbformat": 4,
 "nbformat_minor": 4
}
