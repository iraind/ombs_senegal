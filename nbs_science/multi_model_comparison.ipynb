{
 "cells": [
  {
   "cell_type": "code",
   "execution_count": null,
   "metadata": {},
   "outputs": [],
   "source": [
    "!pip install -q dask"
   ]
  },
  {
   "cell_type": "code",
   "execution_count": null,
   "metadata": {},
   "outputs": [],
   "source": [
    "from pathlib import Path\n",
    "import hvplot.pandas\n",
    "import pandas as pd\n",
    "import xarray as xr\n",
    "\n",
    "DATA_PATH = Path('../../data')"
   ]
  },
  {
   "cell_type": "code",
   "execution_count": null,
   "metadata": {},
   "outputs": [],
   "source": [
    "\n",
    "mgb = pd.read_csv(\n",
    "    DATA_PATH/'data_cumul.csv',  sep=';', usecols=['time', 'débit_mgb'], index_col='time', converters={\"time\": pd.to_datetime}\n",
    "    )\n",
    "mgb = mgb.to_xarray().rename({\"débit_mgb\": \"mgb\"})\n",
    "tamsat_reg = xr.open_dataset(DATA_PATH/'tamsat_regression_benchmark.nc')\n",
    "tamsat_mlp = xr.open_dataset(DATA_PATH/'mlp_with_tamsat.nc')\n",
    "\n",
    "data = xr.merge([tamsat_reg, tamsat_mlp])\n",
    "data[\"mgb\"] = mgb[\"mgb\"]\n"
   ]
  },
  {
   "cell_type": "code",
   "execution_count": null,
   "metadata": {},
   "outputs": [],
   "source": []
  },
  {
   "cell_type": "code",
   "execution_count": null,
   "metadata": {},
   "outputs": [],
   "source": [
    "def plot_model_comparison(data, forecast_horizon=10, width=1000, height=600):\n",
    "    \"\"\"Plot line comparison between model predictions, observations and MGB data for given forecast horizon.\"\"\"\n",
    "    t_horizon = data.sel(forecast_horizon=f\"t+{forecast_horizon}\")[[\"pred\", \"obs\", \"mgb\"]].dropna(dim=\"time\")\n",
    "    to_plot = xr.merge([t_horizon[[\"obs\", \"mgb\"]], t_horizon[\"pred\"].to_dataset(dim=\"model\")])\n",
    "    to_plot = to_plot.drop_vars([c for c in to_plot.coords if not to_plot[c].dims])\n",
    "    return to_plot.to_dataframe().hvplot.line(\n",
    "        width=width, \n",
    "        height=height, \n",
    "        grid=True,\n",
    "        title=f\"Forecast Horizon: {forecast_horizon} days\",\n",
    "        legend='top'\n",
    "    )"
   ]
  },
  {
   "cell_type": "code",
   "execution_count": null,
   "metadata": {},
   "outputs": [],
   "source": [
    "plot_model_comparison(data)"
   ]
  },
  {
   "cell_type": "code",
   "execution_count": null,
   "metadata": {},
   "outputs": [],
   "source": []
  }
 ],
 "metadata": {
  "kernelspec": {
   "display_name": ".venv",
   "language": "python",
   "name": "python3"
  },
  "language_info": {
   "codemirror_mode": {
    "name": "ipython",
    "version": 3
   },
   "file_extension": ".py",
   "mimetype": "text/x-python",
   "name": "python",
   "nbconvert_exporter": "python",
   "pygments_lexer": "ipython3",
   "version": "3.12.3"
  }
 },
 "nbformat": 4,
 "nbformat_minor": 2
}
